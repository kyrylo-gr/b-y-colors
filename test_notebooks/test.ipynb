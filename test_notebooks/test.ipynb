{
 "cells": [
  {
   "cell_type": "code",
   "execution_count": 1,
   "metadata": {},
   "outputs": [],
   "source": [
    "%load_ext autoreload\n",
    "%autoreload 2\n",
    "\n",
    "import bycolors as by"
   ]
  },
  {
   "cell_type": "code",
   "execution_count": 2,
   "metadata": {},
   "outputs": [
    {
     "data": {
      "text/plain": [
       "(0.8980392156862745, 0.7176470588235294, 0.0)"
      ]
     },
     "execution_count": 2,
     "metadata": {},
     "output_type": "execute_result"
    }
   ],
   "source": [
    "by.colors.yellow"
   ]
  },
  {
   "cell_type": "code",
   "execution_count": 12,
   "metadata": {},
   "outputs": [
    {
     "data": {
      "text/plain": [
       "(1, 1, 1)"
      ]
     },
     "execution_count": 12,
     "metadata": {},
     "output_type": "execute_result"
    }
   ],
   "source": [
    "by.ColorClass()"
   ]
  },
  {
   "cell_type": "code",
   "execution_count": 5,
   "metadata": {},
   "outputs": [
    {
     "data": {
      "image/png": "[encoded data removed]",
      "text/plain": [
       "<Figure size 1000x100 with 3 Axes>"
      ]
     },
     "metadata": {},
     "output_type": "display_data"
    }
   ],
   "source": [
    "import matplotlib.pyplot as plt\n",
    "from matplotlib.patches import Rectangle\n",
    "from matplotlib.axes import Axes\n",
    "from matplotlib.figure import Figure\n",
    "\n",
    "\n",
    "def show_color(*colors):\n",
    "    n = len(colors)\n",
    "    fig_ax = plt.subplots(1, n, figsize=(10, 1))\n",
    "    ax: list[Axes] = fig_ax[1]\n",
    "\n",
    "    if n == 1:\n",
    "        ax = [ax]\n",
    "    for i, color in enumerate(colors):\n",
    "        # Convert hex to rgb if needed\n",
    "        if isinstance(color, str):\n",
    "            # Remove # if present and convert to rgb\n",
    "            color = tuple(\n",
    "                int(color.lstrip(\"#\")[i : i + 2], 16) / 255 for i in (0, 2, 4)\n",
    "            )\n",
    "\n",
    "        # Handle both rgb and rgba\n",
    "        rgb_color = color[:3]\n",
    "        alpha = color[3] if len(color) == 4 else 1\n",
    "\n",
    "        ax[i].add_patch(\n",
    "            plt.Rectangle((0, 0), 1, 1, color=tuple(c for c in rgb_color), alpha=alpha)\n",
    "        )\n",
    "        ax[i].set_xlim(0, 1)\n",
    "        ax[i].set_ylim(0, 1)\n",
    "        ax[i].axis(\"off\")\n",
    "    plt.show()\n",
    "\n",
    "\n",
    "show_color(\n",
    "    by.COLOR.YELLOW,\n",
    "    by.colors.yellow.alpha(0.25),\n",
    "    by.colors.yellow.alpha(0.5).rgb,\n",
    ")"
   ]
  },
  {
   "cell_type": "code",
   "execution_count": 3,
   "metadata": {},
   "outputs": [
    {
     "data": {
      "text/plain": [
       "(0.0, 0.0, 0.0)"
      ]
     },
     "execution_count": 3,
     "metadata": {},
     "output_type": "execute_result"
    }
   ],
   "source": [
    "by.colors.yellow.alpha(0, \"#000\")._background_color"
   ]
  },
  {
   "cell_type": "code",
   "execution_count": 27,
   "metadata": {},
   "outputs": [
    {
     "data": {
      "text/plain": [
       "(0.7, 0.0, 0.0)"
      ]
     },
     "execution_count": 27,
     "metadata": {},
     "output_type": "execute_result"
    }
   ],
   "source": [
    "by.ColorClass(\"#FF0000\").darker"
   ]
  },
  {
   "cell_type": "code",
   "execution_count": null,
   "metadata": {},
   "outputs": [
    {
     "data": {
      "text/plain": [
       "(1.0, 0.30000000000000004, 0.30000000000000004)"
      ]
     },
     "execution_count": 32,
     "metadata": {},
     "output_type": "execute_result"
    }
   ],
   "source": [
    "by.ColorClass(\"#FF0000\")"
   ]
  },
  {
   "cell_type": "code",
   "execution_count": null,
   "metadata": {},
   "outputs": [],
   "source": []
  }
 ],
 "metadata": {
  "kernelspec": {
   "display_name": "phd-main",
   "language": "python",
   "name": "python3"
  },
  "language_info": {
   "codemirror_mode": {
    "name": "ipython",
    "version": 3
   },
   "file_extension": ".py",
   "mimetype": "text/x-python",
   "name": "python",
   "nbconvert_exporter": "python",
   "pygments_lexer": "ipython3",
   "version": "3.10.11"
  }
 },
 "nbformat": 4,
 "nbformat_minor": 2
}
